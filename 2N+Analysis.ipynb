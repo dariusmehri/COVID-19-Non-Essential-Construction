{
 "cells": [
  {
   "cell_type": "markdown",
   "metadata": {},
   "source": [
    "### IMPORT TIM'S REPORTS"
   ]
  },
  {
   "cell_type": "markdown",
   "metadata": {},
   "source": [
    "COMPLAINTS RECEIVED"
   ]
  },
  {
   "cell_type": "code",
   "execution_count": 1,
   "metadata": {
    "collapsed": false
   },
   "outputs": [],
   "source": [
    "import pandas as pd\n",
    "import numpy as np\n",
    "\n",
    "path = \"C:\\\\Users\\\\dmehri\\\\Documents\\\\DATA\\\\2N Analysis\\\\\"\n",
    "\n",
    "df = pd.read_csv(path + \"2N_complaints_received.csv\")\n",
    "\n",
    "df[\"Complaint Number\"] = df[\"Complaint Number\"].astype(str).map(str.strip)\n",
    "\n",
    "\n",
    "df[\"Address\"] = df[\"House Number\"] + \" \" + df[\"Street Name\"] + \", \" + df[\"Borough Name\"]\n",
    "\n",
    "df[\"Address\"] = df[\"Address\"].astype(str).map(str.strip).map(str.upper)\n",
    "\n",
    "\n",
    "\n",
    "df.columns = df.columns.str.replace('  ', ' ')\n",
    "df.columns = df.columns.str.replace(' ', '_')\n",
    "df[\"BIN_Number\"] = df[\"BIN_Number\"].astype(str).map(str.strip)\n",
    "\n",
    "\n",
    "df = df.rename(columns={'Source_of_Complaint_Description': 'Source'})\n",
    "cols = sorted(df.columns)\n",
    "#print cols\n",
    "\n",
    "subset = ['Address', 'BIN_Number', 'Community_Board', \n",
    "          'Complaint_Date', 'Complaint_Number']\n",
    "\n",
    "df[\"Complaint_Date\"] = df[\"Complaint_Date\"].astype(str).map(str.strip).map(str.upper).str.replace(' 0:00', '')\n",
    "\n",
    "\n",
    "df = df[subset]\n",
    "\n",
    "#df.dtypes"
   ]
  },
  {
   "cell_type": "code",
   "execution_count": 2,
   "metadata": {
    "collapsed": false
   },
   "outputs": [
    {
     "data": {
      "text/html": [
       "<div>\n",
       "<table border=\"1\" class=\"dataframe\">\n",
       "  <thead>\n",
       "    <tr style=\"text-align: right;\">\n",
       "      <th></th>\n",
       "      <th>Address</th>\n",
       "      <th>BIN_Number</th>\n",
       "      <th>Community_Board</th>\n",
       "      <th>Complaint_Date</th>\n",
       "      <th>Complaint_Number</th>\n",
       "    </tr>\n",
       "  </thead>\n",
       "  <tbody>\n",
       "    <tr>\n",
       "      <th>0</th>\n",
       "      <td>2701 GLENWOOD ROAD, BROOKLYN</td>\n",
       "      <td>3327331</td>\n",
       "      <td>314</td>\n",
       "      <td>3/30/2020</td>\n",
       "      <td>3748469</td>\n",
       "    </tr>\n",
       "    <tr>\n",
       "      <th>1</th>\n",
       "      <td>57 ST MARKS PLACE, MANHATTAN</td>\n",
       "      <td>1006394</td>\n",
       "      <td>103</td>\n",
       "      <td>4/1/2020</td>\n",
       "      <td>1540015</td>\n",
       "    </tr>\n",
       "  </tbody>\n",
       "</table>\n",
       "</div>"
      ],
      "text/plain": [
       "                        Address BIN_Number  Community_Board Complaint_Date  \\\n",
       "0  2701 GLENWOOD ROAD, BROOKLYN    3327331              314      3/30/2020   \n",
       "1  57 ST MARKS PLACE, MANHATTAN    1006394              103       4/1/2020   \n",
       "\n",
       "  Complaint_Number  \n",
       "0          3748469  \n",
       "1          1540015  "
      ]
     },
     "execution_count": 2,
     "metadata": {},
     "output_type": "execute_result"
    }
   ],
   "source": [
    "df.head(2)"
   ]
  },
  {
   "cell_type": "markdown",
   "metadata": {},
   "source": [
    "INSPECTIONS"
   ]
  },
  {
   "cell_type": "code",
   "execution_count": 3,
   "metadata": {
    "collapsed": false
   },
   "outputs": [
    {
     "name": "stdout",
     "output_type": "stream",
     "text": [
      "number of disp 200\n",
      "number swo 94\n",
      "Complaint_Number                     object\n",
      "Inspection_Date                      object\n",
      "Disposition_Code                     object\n",
      "Complaint_Disposition_Description    object\n",
      "Number_Violations                     int64\n",
      "Number_SWO                            int64\n",
      "dtype: object\n"
     ]
    }
   ],
   "source": [
    "pd.set_option('chained_assignment', None)\n",
    "\n",
    "di = pd.read_csv(path + \"2N_inspections.csv\")\n",
    "\n",
    "di[\"Complaint Number\"] = di[\"Complaint Number\"].astype(str).map(str.strip)\n",
    "\n",
    "di = di.drop('BIN Number', 1)\n",
    "\n",
    "di.columns = di.columns.str.replace('  ', ' ')\n",
    "di.columns = di.columns.str.replace(' ', '_')\n",
    "\n",
    "disp = ['A1', 'A4', 'A5', 'A9', 'B1', 'B2', 'A8', 'A6',\n",
    "                'H3','A3', 'L3', 'L2', 'L1', 'Y4', 'Y3', 'Y2', \n",
    "                'Y1', 'W1', 'H6']\n",
    "\n",
    "di[\"Number_Violations\"] = 0\n",
    "di[\"Number_SWO\"] = 0\n",
    "\n",
    "\n",
    "di[\"Disposition_Code\"] = di[\"Disposition_Code\"].astype(str).map(str.strip)\n",
    "\n",
    "\n",
    "count = 0\n",
    "countswo = 0\n",
    "for i in range(0, len(di) ):\n",
    "    if di[\"Disposition_Code\"][i] in disp:\n",
    "        di[\"Number_Violations\"][i] = 1\n",
    "        count+=1\n",
    "    if \"STOP WORK\" in di[\"Complaint_Disposition_Description\"][i]:\n",
    "        di[\"Number_SWO\"][i] = 1\n",
    "        countswo+=1\n",
    "\n",
    "di[\"Inspection_Date\"] = di[\"Inspection_Date\"].astype(str).map(str.strip).map(str.upper).str.replace(' 0:00', '')\n",
    "\n",
    "di = di.drop('Work_Days_to_Inspection', 1)\n",
    "\n",
    "di[\"Complaint_Disposition_Description\"] = di[\"Complaint_Disposition_Description\"].astype(str).map(str.upper)\n",
    "di[\"Complaint_Disposition_Description\"] = di[\"Complaint_Disposition_Description\"] + \" \"\n",
    "di[\"Complaint_Disposition_Description\"] = di[\"Complaint_Disposition_Description\"].str.replace(' F ', '')\n",
    "di[\"Complaint_Disposition_Description\"] = di[\"Complaint_Disposition_Description\"].str.replace(' P ', '')\n",
    "\n",
    "di[\"Complaint_Disposition_Description\"] = di[\"Complaint_Disposition_Description\"].str.replace(' N ', '')\n",
    "\n",
    "di[\"Complaint_Disposition_Description\"] = di[\"Complaint_Disposition_Description\"].str.replace('[^\\w\\s]','')\n",
    "di[\"Complaint_Disposition_Description\"] = di[\"Complaint_Disposition_Description\"].map(str.strip)\n",
    "\n",
    "print \"number of disp\", count\n",
    "print \"number swo\", countswo\n",
    "\n",
    "print di.dtypes"
   ]
  },
  {
   "cell_type": "code",
   "execution_count": 4,
   "metadata": {
    "collapsed": false
   },
   "outputs": [
    {
     "data": {
      "text/html": [
       "<div>\n",
       "<table border=\"1\" class=\"dataframe\">\n",
       "  <thead>\n",
       "    <tr style=\"text-align: right;\">\n",
       "      <th></th>\n",
       "      <th>Complaint_Number</th>\n",
       "      <th>Inspection_Date</th>\n",
       "      <th>Disposition_Code</th>\n",
       "      <th>Complaint_Disposition_Description</th>\n",
       "      <th>Number_Violations</th>\n",
       "      <th>Number_SWO</th>\n",
       "    </tr>\n",
       "  </thead>\n",
       "  <tbody>\n",
       "    <tr>\n",
       "      <th>0</th>\n",
       "      <td>1540015</td>\n",
       "      <td>4/2/2020</td>\n",
       "      <td>I2</td>\n",
       "      <td>NO VIOLATION WARRANTED FOR COMPLAINT AT TIME O...</td>\n",
       "      <td>0</td>\n",
       "      <td>0</td>\n",
       "    </tr>\n",
       "    <tr>\n",
       "      <th>1</th>\n",
       "      <td>1540018</td>\n",
       "      <td>4/3/2020</td>\n",
       "      <td>I2</td>\n",
       "      <td>NO VIOLATION WARRANTED FOR COMPLAINT AT TIME O...</td>\n",
       "      <td>0</td>\n",
       "      <td>0</td>\n",
       "    </tr>\n",
       "  </tbody>\n",
       "</table>\n",
       "</div>"
      ],
      "text/plain": [
       "  Complaint_Number Inspection_Date Disposition_Code  \\\n",
       "0          1540015        4/2/2020               I2   \n",
       "1          1540018        4/3/2020               I2   \n",
       "\n",
       "                   Complaint_Disposition_Description  Number_Violations  \\\n",
       "0  NO VIOLATION WARRANTED FOR COMPLAINT AT TIME O...                  0   \n",
       "1  NO VIOLATION WARRANTED FOR COMPLAINT AT TIME O...                  0   \n",
       "\n",
       "   Number_SWO  \n",
       "0           0  \n",
       "1           0  "
      ]
     },
     "execution_count": 4,
     "metadata": {},
     "output_type": "execute_result"
    }
   ],
   "source": [
    "di.head(2)"
   ]
  },
  {
   "cell_type": "markdown",
   "metadata": {},
   "source": [
    "BACKLOG DATA"
   ]
  },
  {
   "cell_type": "code",
   "execution_count": 5,
   "metadata": {
    "collapsed": false
   },
   "outputs": [
    {
     "data": {
      "text/plain": [
       "Complaint_Number             object\n",
       "Work_Days_Since_Complaint     int64\n",
       "dtype: object"
      ]
     },
     "execution_count": 5,
     "metadata": {},
     "output_type": "execute_result"
    }
   ],
   "source": [
    "db = pd.read_csv(path + \"2N_backlog.csv\")\n",
    "\n",
    "db[\"Complaint Number\"] = db[\"Complaint Number\"].astype(str).map(str.strip)\n",
    "db.columns = db.columns.str.replace('  ', ' ')\n",
    "db.columns = db.columns.str.replace(' ', '_')\n",
    "\n",
    "db.dtypes"
   ]
  },
  {
   "cell_type": "markdown",
   "metadata": {},
   "source": [
    "MERGE"
   ]
  },
  {
   "cell_type": "code",
   "execution_count": 6,
   "metadata": {
    "collapsed": false
   },
   "outputs": [
    {
     "name": "stdout",
     "output_type": "stream",
     "text": [
      "merge complaints received with inspections\n",
      "1494\n",
      "merge with backlog\n",
      "1547\n",
      "1547\n",
      "['Address', 'BIN_Number', 'Community_Board', 'Complaint_Date', 'Complaint_Disposition_Description', 'Complaint_Number', 'Disposition_Code', 'Inspection_Date', 'Number_SWO', 'Number_Violations', 'Work_Days_Since_Complaint']\n"
     ]
    }
   ],
   "source": [
    "print \"merge complaints received with inspections\"\n",
    "print len(df)\n",
    "df2 = pd.merge(df, di, how='left', on=['Complaint_Number'])\n",
    "print \"merge with backlog\"\n",
    "print len(df2)\n",
    "df2 = pd.merge(df2, db, how='left', on=['Complaint_Number'])\n",
    "print len(df2)\n",
    "\n",
    "#df2 = pd.merge(df2, dgis, how='left', on=['BIN_Number'])\n",
    "\n",
    "#print len(df2)\n",
    "\n",
    "cols = sorted(df2.columns)\n",
    "print cols\n",
    "\n",
    "#print \n",
    "#print colsOld"
   ]
  },
  {
   "cell_type": "code",
   "execution_count": 7,
   "metadata": {
    "collapsed": false
   },
   "outputs": [],
   "source": [
    "#df2.to_csv(path + \"test.csv\", index=False)"
   ]
  },
  {
   "cell_type": "markdown",
   "metadata": {},
   "source": [
    "DATA CLEANING"
   ]
  },
  {
   "cell_type": "code",
   "execution_count": 8,
   "metadata": {
    "collapsed": false
   },
   "outputs": [
    {
     "name": "stdout",
     "output_type": "stream",
     "text": [
      "Data cleaning...\n",
      "2020-04-20 10:20:33.733000\n",
      "Clean workdays since complaint\n",
      "DONE\n"
     ]
    }
   ],
   "source": [
    "print \"Data cleaning...\"\n",
    "from datetime import datetime\n",
    "print str(datetime.now())\n",
    "\n",
    "pd.set_option('chained_assignment', None)\n",
    "\n",
    "\n",
    "print \"Clean workdays since complaint\"\n",
    "df2[\"Work_Days_Since_Complaint\"] = df2[\"Work_Days_Since_Complaint\"].astype(str).map(str.strip)\n",
    "#df2[\"Work_Days_Since_Complaint\"] = df2[\"Work_Days_Since_Complaint\"].str.replace('nan', 'NA')\n",
    "\n",
    "\n",
    "#dates = set(df[\"Inspection_Date(s)\"].tolist() )\n",
    "\n",
    "df2[\"Inspection_Date\"] = df2[\"Inspection_Date\"].astype(str).map(str.strip)\n",
    "df2[\"Inspection_Date\"] = df2[\"Inspection_Date\"].str.replace(' 0:00', '')\n",
    "df2[\"Inspection_Date\"] = df2[\"Inspection_Date\"].str.replace('nan', 'Not Inspected Yet')\n",
    "\n",
    "\n",
    "df2[\"Inspected\"] = \"YES\"\n",
    "df2[\"Number_Inspected\"] = 0\n",
    "df2[\"Number_Open_Complaints\"] = 0\n",
    "\n",
    "for i in range(0, len(df2)):\n",
    "    if df2[\"Inspection_Date\"][i] == \"Not Inspected Yet\":\n",
    "        df2[\"Inspected\"][i] = \"NO\"\n",
    "        df2[\"Number_Open_Complaints\"][i] = 1\n",
    "    else:\n",
    "        df2[\"Number_Inspected\"][i] = 1\n",
    "\n",
    "        \n",
    "        \n",
    "        \n",
    "#df[\"Work_Days_Since_Complaint\"] = df[\"Work_Days_Since_Complaint\"].astype(str)\n",
    "\n",
    "#df[\"Complaint_Date\"] = df[\"Complaint_Date\"].astype(str).map(str.strip)\n",
    "#df[\"Complaint_Date\"] = df[\"Complaint_Date\"].str.replace(' 0:00', '')\n",
    "\n",
    "\n",
    "\n",
    "print \"DONE\"\n",
    "\n"
   ]
  },
  {
   "cell_type": "markdown",
   "metadata": {},
   "source": [
    "WORK DAYS TO FIRST INSPECTION"
   ]
  },
  {
   "cell_type": "code",
   "execution_count": 9,
   "metadata": {
    "collapsed": false
   },
   "outputs": [],
   "source": [
    "#import pandas as pd\n",
    "#import numpy as np\n",
    "\n",
    "#d = pd.DataFrame({\"Signin Date\": [\"2018-01-01\", \"2018-02-01\"]})\n",
    "#d[\"Signin Date\"] = pd.to_datetime(d[\"Signin Date\"])\n",
    "#d['Signin Date Shifted'] = pd.DatetimeIndex(d['Signin Date']) + pd.DateOffset(months=1)\n",
    "\n",
    "#d[\"bussDays\"] = np.busday_count( d[\"Signin Date\"].values.astype('datetime64[D]'), d['Signin Date Shifted'].values.astype('datetime64[D]'))\n",
    "#print(d)"
   ]
  },
  {
   "cell_type": "code",
   "execution_count": 10,
   "metadata": {
    "collapsed": false
   },
   "outputs": [],
   "source": [
    "import numpy as np\n",
    "\n",
    "binList = list(set(df2[\"BIN_Number\"].tolist() ))\n",
    "\n",
    "qn = pd.DataFrame(columns=('BIN_Number', 'Work_Days_to_1st_Inspection', \n",
    "                           'First_Complaint_Date', 'First_Inspection_Date'))\n",
    "\n",
    "\n",
    "for i in range(0, len(binList)):\n",
    "#for i in range(1, 2):\n",
    "    \n",
    "    df3 = df2[df2[\"BIN_Number\"] == binList[i]]\n",
    "    df3 = df3[[\"BIN_Number\", \"Complaint_Date\", \"Inspection_Date\"]]\n",
    "    df3 = df3[df3[\"Inspection_Date\"] != \"Not Inspected Yet\"]\n",
    "    \n",
    "    if len(df3) > 0:\n",
    "        df3['Complaint_Date'] = pd.to_datetime(df3['Complaint_Date'])\n",
    "        df3['Inspection_Date'] = pd.to_datetime(df3['Inspection_Date'])\n",
    "        df3 = df3.sort_values(by = 'Complaint_Date', ascending=True).reset_index(drop=True)\n",
    "        df3[\"bussDays\"] = np.busday_count( df3['Complaint_Date'][0], \n",
    "                                          df3['Inspection_Date'][0])\n",
    "        \n",
    "        df3[\"Complaint_Date\"] = df3[\"Complaint_Date\"].apply(lambda x: x.date())\n",
    "        df3[\"Inspection_Date\"] = df3[\"Inspection_Date\"].apply(lambda x: x.date())\n",
    "        \n",
    "        df3[\"Complaint_Date\"] = df3[\"Complaint_Date\"].astype(str)\n",
    "        df3[\"Inspection_Date\"] = df3[\"Inspection_Date\"].astype(str)\n",
    "\n",
    "        complaint_dates = df3[\"Complaint_Date\"].tolist()\n",
    "        inspection_dates = df3[\"Inspection_Date\"].tolist()\n",
    "    \n",
    "\n",
    "        qn.loc[i] = [binList[i],df3[\"bussDays\"][0], complaint_dates[0], inspection_dates[0] ]\n",
    "\n",
    "    \n",
    "    \n",
    "    #print df3\n",
    "#df2 = pd.merge(df2, qn, how='left', on=['BIN_Number'])\n",
    "\n"
   ]
  },
  {
   "cell_type": "markdown",
   "metadata": {},
   "source": [
    "CALCULATE BACKLOG IN WORKDAYS"
   ]
  },
  {
   "cell_type": "code",
   "execution_count": 11,
   "metadata": {
    "collapsed": false
   },
   "outputs": [
    {
     "name": "stdout",
     "output_type": "stream",
     "text": [
      "2020-04-20\n"
     ]
    }
   ],
   "source": [
    "#qnb = pd.DataFrame(columns=('BIN_Number', 'Work_Days_Since_Complaint'))\n",
    "\n",
    "from datetime import datetime\n",
    "from dateutil import parser\n",
    "\n",
    "\n",
    "current_date =  datetime.now().date()\n",
    "\n",
    "print current_date\n",
    "\n",
    "\n",
    "df2[\"Work_Days_Since_Complaint\"] = \"\"\n",
    "\n",
    "for i in range(0, len(df2)):\n",
    "#for i in range(0, 10):\n",
    "    complaint_date= df2[\"Complaint_Date\"][i]\n",
    "    complaint_date = complaint_date.replace('/', '-')\n",
    "    complaint_date = parser.parse(complaint_date)\n",
    "    complaint_date = complaint_date.date()\n",
    "\n",
    "    \n",
    "    df2[\"Work_Days_Since_Complaint\"][i] = np.busday_count( complaint_date, \n",
    "                                          current_date)\n",
    "        \n",
    "    \n"
   ]
  },
  {
   "cell_type": "code",
   "execution_count": 12,
   "metadata": {
    "collapsed": false
   },
   "outputs": [
    {
     "data": {
      "text/plain": [
       "Address                               object\n",
       "BIN_Number                            object\n",
       "Community_Board                        int64\n",
       "Complaint_Date                        object\n",
       "Complaint_Number                      object\n",
       "Inspection_Date                       object\n",
       "Disposition_Code                      object\n",
       "Complaint_Disposition_Description     object\n",
       "Number_Violations                    float64\n",
       "Number_SWO                           float64\n",
       "Work_Days_Since_Complaint             object\n",
       "Inspected                             object\n",
       "Number_Inspected                       int64\n",
       "Number_Open_Complaints                 int64\n",
       "dtype: object"
      ]
     },
     "execution_count": 12,
     "metadata": {},
     "output_type": "execute_result"
    }
   ],
   "source": [
    "df2.dtypes"
   ]
  },
  {
   "cell_type": "markdown",
   "metadata": {},
   "source": [
    "AGGREGATE TO BIN LEVEL"
   ]
  },
  {
   "cell_type": "code",
   "execution_count": 13,
   "metadata": {
    "collapsed": false
   },
   "outputs": [
    {
     "name": "stdout",
     "output_type": "stream",
     "text": [
      "Group and add...\n",
      "Add address...\n",
      "Add community board...\n",
      "Add complaint dates...\n",
      "Add inspection dates...\n",
      "Add complaint numbers...\n",
      "Merge with first inspection and complaint dates\n",
      "len of dfbase before merge 947\n",
      "len of dfbase after merge 947\n",
      "Add dispositions...\n",
      "Add inspected yes or no...\n",
      "Count inspected 943\n",
      "len of dfbase 947\n",
      "Add lat/lon\n",
      "947\n",
      "DONE\n"
     ]
    }
   ],
   "source": [
    "print \"Group and add...\"\n",
    "dfbase = df2[[\"BIN_Number\", \"Number_Violations\", \"Work_Days_Since_Complaint\", \"Number_SWO\",\n",
    "             \"Number_Inspected\", \"Number_Open_Complaints\"]]\n",
    "\n",
    "dfbase[\"Work_Days_Since_Complaint\"] = dfbase[\"Work_Days_Since_Complaint\"].astype(int)\n",
    "dfbase[\"Number_Complaints\"] = 1\n",
    "dfbase = (dfbase.groupby('BIN_Number').agg({'Number_Violations':'sum', \n",
    "                                            'Work_Days_Since_Complaint': 'mean',\n",
    "                                            'Number_Complaints':'sum',\n",
    "                                            'Number_Inspected':'sum',\n",
    "                                            'Number_Open_Complaints':'sum',\n",
    "                                            'Number_SWO':'sum'}).reset_index().rename(columns={'Number_Violations':'Number_Violations'}) )\n",
    "\n",
    "print \"Add address...\"\n",
    "ad = df2[[\"BIN_Number\", \"Address\"]]\n",
    "ad = ad.drop_duplicates(subset=['BIN_Number', 'Address']).reset_index(drop=True)\n",
    "ad = ad.set_index('BIN_Number')['Address'].to_dict()\n",
    "dfbase[\"Address\"] = dfbase[\"BIN_Number\"].map(ad)\n",
    "\n",
    "\n",
    "print \"Add community board...\"\n",
    "cb = df2[[\"BIN_Number\", \"Community_Board\"]]\n",
    "cb = cb.set_index('BIN_Number')['Community_Board'].to_dict()\n",
    "dfbase[\"Community_Board\"] = dfbase[\"BIN_Number\"].map(cb)\n",
    "\n",
    "print \"Add complaint dates...\"\n",
    "cdates = df2[[\"BIN_Number\", \"Complaint_Date\"]]\n",
    "cdates =cdates.drop_duplicates(subset=['BIN_Number', 'Complaint_Date']).reset_index(drop=True)\n",
    "f = cdates.groupby('BIN_Number')['Complaint_Date'].apply(lambda x: \"{%s}\" % ', '.join(x))\n",
    "f = pd.DataFrame(f)\n",
    "f = f.reset_index(drop=False)\n",
    "f = f.set_index('BIN_Number')['Complaint_Date'].to_dict()\n",
    "dfbase[\"Complaint_Date(s)\"] = dfbase[\"BIN_Number\"].map(f)\n",
    "\n",
    "print \"Add inspection dates...\"\n",
    "cdates = df2[[\"BIN_Number\", \"Inspection_Date\"]]\n",
    "cdates =cdates.drop_duplicates(subset=['BIN_Number', 'Inspection_Date']).reset_index(drop=True)\n",
    "f = cdates.groupby('BIN_Number')['Inspection_Date'].apply(lambda x: \"{%s}\" % ', '.join(x))\n",
    "f = pd.DataFrame(f)\n",
    "f = f.reset_index(drop=False)\n",
    "f = f.set_index('BIN_Number')['Inspection_Date'].to_dict()\n",
    "dfbase[\"Inspection_Date(s)\"] = dfbase[\"BIN_Number\"].map(f)\n",
    "\n",
    "\n",
    "print \"Add complaint numbers...\"\n",
    "cdates = df2[[\"BIN_Number\", \"Complaint_Number\"]]\n",
    "cdates =cdates.drop_duplicates(subset=['BIN_Number', 'Complaint_Number']).reset_index(drop=True)\n",
    "f = cdates.groupby('BIN_Number')['Complaint_Number'].apply(lambda x: \"{%s}\" % ', '.join(x))\n",
    "f = pd.DataFrame(f)\n",
    "f = f.reset_index(drop=False)\n",
    "f = f.set_index('BIN_Number')['Complaint_Number'].to_dict()\n",
    "dfbase[\"Complaint_Number(s)\"] = dfbase[\"BIN_Number\"].map(f)\n",
    "\n",
    "print \"Merge with first inspection and complaint dates\"\n",
    "print \"len of dfbase before merge\", len(dfbase)\n",
    "dfbase = pd.merge(dfbase, qn, how='left', on=['BIN_Number'])\n",
    "print \"len of dfbase after merge\", len(dfbase)\n",
    "\n",
    "print \"Add dispositions...\"\n",
    "dsp = df2[[\"BIN_Number\", \"Disposition_Code\",\"Complaint_Disposition_Description\"]]\n",
    "dsp = dsp.reset_index(drop=True)\n",
    "dsp[\"Disposition_Code\"] = dsp[\"Disposition_Code\"].astype(str)\n",
    "dsp[\"Complaint_Disposition_Description\"] = dsp[\"Complaint_Disposition_Description\"].astype(str)\n",
    "\n",
    "dsp[\"Complaint_Disposition_Description\"] = dsp[\"Disposition_Code\"] + \" \" + dsp[\"Complaint_Disposition_Description\"]\n",
    "dsp = dsp[[\"BIN_Number\", \"Complaint_Disposition_Description\"]]\n",
    "dsp =dsp.drop_duplicates(subset=['BIN_Number', 'Complaint_Disposition_Description']).reset_index(drop=True)\n",
    "f = dsp.groupby('BIN_Number')['Complaint_Disposition_Description'].apply(lambda x: \"{%s}\" % ', '.join(x))\n",
    "f = pd.DataFrame(f)\n",
    "f = f.reset_index(drop=False)\n",
    "\n",
    "f.Complaint_Disposition_Description = f.Complaint_Disposition_Description.str.replace('[^\\w\\s]','')\n",
    "\n",
    "f = f.set_index('BIN_Number')['Complaint_Disposition_Description'].to_dict()\n",
    "dfbase[\"Complaint_Disposition(s)\"] = dfbase[\"BIN_Number\"].map(f)\n",
    "\n",
    "print \"Add inspected yes or no...\"\n",
    "inspected = df2[df2[\"Inspected\"] == \"YES\"]\n",
    "dfbase[\"Building Inspected\"] = \"NO\"\n",
    "\n",
    "inspected = list(set(inspected[\"BIN_Number\"].tolist() ))\n",
    "countinspected = 0\n",
    "for i in range(0, len(dfbase)):\n",
    "    if dfbase[\"BIN_Number\"][i] in inspected:\n",
    "        dfbase[\"Building Inspected\"][i] = \"YES\"\n",
    "        countinspected+=1\n",
    "\n",
    "print \"Count inspected\", countinspected\n",
    "\n",
    "print \"len of dfbase\", len(dfbase)\n",
    "\n",
    "print \"Add lat/lon\"\n",
    "pathgis = \"C:\\\\Users\\\\dmehri\\\\Documents\\\\DATA\\\\Building Census\\\\\"\n",
    "dgis = pd.read_csv(pathgis + \"Property BIN to Lat Lon.csv\", low_memory=False)\n",
    "dgis = dgis[[\"BIN\", \"LATITUDE\", \"LONGITUDE\"]]\n",
    "dgis = dgis.rename(columns={'BIN': 'BIN_Number', \n",
    "                            'LATITUDE': 'Latitude',\n",
    "                           'LONGITUDE': 'Longitude'})\n",
    "dgis[\"BIN_Number\"] = dgis[\"BIN_Number\"].astype(str).map(str.strip)\n",
    "dfbase = pd.merge(dfbase, dgis, how='left', on=['BIN_Number'])\n",
    "df2 =  pd.merge(df2, dgis, how='left', on=['BIN_Number'])\n",
    "print len(dfbase)\n",
    "\n",
    "\n",
    "\n",
    "print \"DONE\""
   ]
  },
  {
   "cell_type": "code",
   "execution_count": 14,
   "metadata": {
    "collapsed": false
   },
   "outputs": [
    {
     "data": {
      "text/html": [
       "<div>\n",
       "<table border=\"1\" class=\"dataframe\">\n",
       "  <thead>\n",
       "    <tr style=\"text-align: right;\">\n",
       "      <th></th>\n",
       "      <th>BIN_Number</th>\n",
       "      <th>Number_SWO</th>\n",
       "      <th>Number_Open_Complaints</th>\n",
       "      <th>Number_Violations</th>\n",
       "      <th>Number_Complaints</th>\n",
       "      <th>Number_Inspected</th>\n",
       "      <th>Work_Days_Since_Complaint</th>\n",
       "      <th>Address</th>\n",
       "      <th>Community_Board</th>\n",
       "      <th>Complaint_Date(s)</th>\n",
       "      <th>Inspection_Date(s)</th>\n",
       "      <th>Complaint_Number(s)</th>\n",
       "      <th>Work_Days_to_1st_Inspection</th>\n",
       "      <th>First_Complaint_Date</th>\n",
       "      <th>First_Inspection_Date</th>\n",
       "      <th>Complaint_Disposition(s)</th>\n",
       "      <th>Building Inspected</th>\n",
       "      <th>Latitude</th>\n",
       "      <th>Longitude</th>\n",
       "    </tr>\n",
       "  </thead>\n",
       "  <tbody>\n",
       "    <tr>\n",
       "      <th>0</th>\n",
       "      <td>1000793</td>\n",
       "      <td>0.0</td>\n",
       "      <td>0</td>\n",
       "      <td>0.0</td>\n",
       "      <td>4</td>\n",
       "      <td>4</td>\n",
       "      <td>5.75</td>\n",
       "      <td>90 WASHINGTON STREET, MANHATTAN</td>\n",
       "      <td>101</td>\n",
       "      <td>{4/7/2020, 4/15/2020, 4/16/2020}</td>\n",
       "      <td>{4/7/2020, 4/8/2020, 4/15/2020, 4/16/2020}</td>\n",
       "      <td>{1540391, 1540411, 1541093, 1541120}</td>\n",
       "      <td>0.0</td>\n",
       "      <td>2020-04-07</td>\n",
       "      <td>2020-04-07</td>\n",
       "      <td>I2 NO VIOLATION WARRANTED FOR COMPLAINT AT TIM...</td>\n",
       "      <td>YES</td>\n",
       "      <td>40.708069</td>\n",
       "      <td>-74.014847</td>\n",
       "    </tr>\n",
       "  </tbody>\n",
       "</table>\n",
       "</div>"
      ],
      "text/plain": [
       "  BIN_Number  Number_SWO  Number_Open_Complaints  Number_Violations  \\\n",
       "0    1000793         0.0                       0                0.0   \n",
       "\n",
       "   Number_Complaints  Number_Inspected  Work_Days_Since_Complaint  \\\n",
       "0                  4                 4                       5.75   \n",
       "\n",
       "                           Address  Community_Board  \\\n",
       "0  90 WASHINGTON STREET, MANHATTAN              101   \n",
       "\n",
       "                  Complaint_Date(s)  \\\n",
       "0  {4/7/2020, 4/15/2020, 4/16/2020}   \n",
       "\n",
       "                           Inspection_Date(s)  \\\n",
       "0  {4/7/2020, 4/8/2020, 4/15/2020, 4/16/2020}   \n",
       "\n",
       "                    Complaint_Number(s)  Work_Days_to_1st_Inspection  \\\n",
       "0  {1540391, 1540411, 1541093, 1541120}                          0.0   \n",
       "\n",
       "  First_Complaint_Date First_Inspection_Date  \\\n",
       "0           2020-04-07            2020-04-07   \n",
       "\n",
       "                            Complaint_Disposition(s) Building Inspected  \\\n",
       "0  I2 NO VIOLATION WARRANTED FOR COMPLAINT AT TIM...                YES   \n",
       "\n",
       "    Latitude  Longitude  \n",
       "0  40.708069 -74.014847  "
      ]
     },
     "execution_count": 14,
     "metadata": {},
     "output_type": "execute_result"
    }
   ],
   "source": [
    "dfbase.head(1)"
   ]
  },
  {
   "cell_type": "markdown",
   "metadata": {},
   "source": [
    "CREATE DISPOSIIOTN TYPE CATEGORY"
   ]
  },
  {
   "cell_type": "code",
   "execution_count": 15,
   "metadata": {
    "collapsed": false
   },
   "outputs": [],
   "source": [
    "dfbase[\"Disposition Type\"] = \"none\"\n",
    "for i in range(0, len(dfbase)):\n",
    "    for j in range( 0, len(disp) ):\n",
    "        if disp[j] in dfbase[\"Complaint_Disposition(s)\"][i]:\n",
    "            dfbase[\"Disposition Type\"][i] = \"Violation\"\n",
    "    if \"STOP WORK\" in dfbase[\"Complaint_Disposition(s)\"][i]:\n",
    "        dfbase[\"Disposition Type\"][i] = \"Stop Work Order\"\n",
    "    elif dfbase[\"Disposition Type\"][i] == \"none\" :\n",
    "        dfbase[\"Disposition Type\"][i] = \"No Violation\"\n"
   ]
  },
  {
   "cell_type": "markdown",
   "metadata": {},
   "source": [
    "CREATE A BACKLOG MAP"
   ]
  },
  {
   "cell_type": "code",
   "execution_count": 16,
   "metadata": {
    "collapsed": false
   },
   "outputs": [
    {
     "name": "stdout",
     "output_type": "stream",
     "text": [
      "len of dfback before merge 27\n",
      "len dfack after merge 27\n"
     ]
    }
   ],
   "source": [
    "dfback = df2.copy()\n",
    "dfback = dfback[dfback[\"Inspected\"] == \"NO\"].reset_index(drop=True)\n",
    "\n",
    "dfback = dfback[[\"BIN_Number\", \"Complaint_Date\", \"Complaint_Number\", \n",
    "                \"Work_Days_Since_Complaint\", \"Latitude\", \"Longitude\"]]\n",
    "\n",
    "dfback[\"Toltal_Number_Open\"] = 1\n",
    "\n",
    "f = dfback.groupby('BIN_Number')['Complaint_Date'].apply(lambda x: \"{%s}\" % ', '.join(x))\n",
    "X = pd.DataFrame(f)\n",
    "X = X.reset_index(drop=False)\n",
    "\n",
    "f = dfback.groupby('BIN_Number')['Complaint_Number'].apply(lambda x: \"{%s}\" % ', '.join(x))\n",
    "X2 = pd.DataFrame(f)\n",
    "X2 = X2.reset_index(drop=False)\n",
    "\n",
    "X = pd.merge(X, X2, how='left', on=['BIN_Number'])\n",
    "\n",
    "\n",
    "dfback = dfback[[\"BIN_Number\", \"Work_Days_Since_Complaint\", \"Toltal_Number_Open\",\n",
    "                 \"Latitude\", \"Longitude\"]]\n",
    "\n",
    "dfback[\"Work_Days_Since_Complaint\"] = dfback[\"Work_Days_Since_Complaint\"].astype(int)\n",
    "\n",
    "dfback = (dfback.groupby('BIN_Number').agg({'Work_Days_Since_Complaint':'mean',\n",
    "                                     'Toltal_Number_Open':'sum',\n",
    "                                     'Latitude': 'mean', \n",
    "                                     'Longitude':'mean'}).reset_index().rename(columns={'Work_Days_Since_Complaint':'Avg_Work_Days_Since_Complaint'}) )\n",
    "\n",
    "\n",
    "dfback = pd.merge(dfback, X, how='left', on=['BIN_Number'])\n",
    "\n",
    "\n",
    "ad = df2[[\"BIN_Number\", \"Address\"]]\n",
    "ad = ad.drop_duplicates([\"BIN_Number\"]).reset_index(drop=True)\n",
    "print \"len of dfback before merge\", len(dfback)\n",
    "dfback = pd.merge(dfback, ad, how='left', on=['BIN_Number'])\n",
    "print \"len dfack after merge\", len(dfback)\n",
    "\n",
    "\n",
    "dfback[\"Complaint_Date\"] = dfback[\"Complaint_Date\"].astype(str).str.replace('{', '')\n",
    "dfback[\"Complaint_Date\"] = dfback[\"Complaint_Date\"].str.replace('}', '')\n",
    "\n",
    "dfback[\"Complaint_Number\"] = dfback[\"Complaint_Number\"].astype(str).str.replace('{', '')\n",
    "dfback[\"Complaint_Number\"] = dfback[\"Complaint_Number\"].str.replace('}', '')\n",
    "\n",
    "dfback = dfback.rename(columns={'Complaint_Date': 'Complaint_Date(s)', \n",
    "                        'Complaint_Number': 'Complaint_Number(s)'})\n",
    "\n",
    "\n",
    "dfback[\"Building Inspected\"] = \"NO\"\n"
   ]
  },
  {
   "cell_type": "code",
   "execution_count": 17,
   "metadata": {
    "collapsed": false
   },
   "outputs": [
    {
     "data": {
      "text/html": [
       "<div>\n",
       "<table border=\"1\" class=\"dataframe\">\n",
       "  <thead>\n",
       "    <tr style=\"text-align: right;\">\n",
       "      <th></th>\n",
       "      <th>BIN_Number</th>\n",
       "      <th>Latitude</th>\n",
       "      <th>Toltal_Number_Open</th>\n",
       "      <th>Longitude</th>\n",
       "      <th>Avg_Work_Days_Since_Complaint</th>\n",
       "      <th>Complaint_Date(s)</th>\n",
       "      <th>Complaint_Number(s)</th>\n",
       "      <th>Address</th>\n",
       "      <th>Building Inspected</th>\n",
       "    </tr>\n",
       "  </thead>\n",
       "  <tbody>\n",
       "    <tr>\n",
       "      <th>0</th>\n",
       "      <td>1014076</td>\n",
       "      <td>40.743359</td>\n",
       "      <td>1</td>\n",
       "      <td>-73.996643</td>\n",
       "      <td>12.0</td>\n",
       "      <td>4/2/2020</td>\n",
       "      <td>1540027</td>\n",
       "      <td>200 7 AVENUE, MANHATTAN</td>\n",
       "      <td>NO</td>\n",
       "    </tr>\n",
       "  </tbody>\n",
       "</table>\n",
       "</div>"
      ],
      "text/plain": [
       "  BIN_Number   Latitude  Toltal_Number_Open  Longitude  \\\n",
       "0    1014076  40.743359                   1 -73.996643   \n",
       "\n",
       "   Avg_Work_Days_Since_Complaint Complaint_Date(s) Complaint_Number(s)  \\\n",
       "0                           12.0          4/2/2020             1540027   \n",
       "\n",
       "                   Address Building Inspected  \n",
       "0  200 7 AVENUE, MANHATTAN                 NO  "
      ]
     },
     "execution_count": 17,
     "metadata": {},
     "output_type": "execute_result"
    }
   ],
   "source": [
    "dfback.head(1)"
   ]
  },
  {
   "cell_type": "code",
   "execution_count": 18,
   "metadata": {
    "collapsed": false
   },
   "outputs": [
    {
     "name": "stdout",
     "output_type": "stream",
     "text": [
      "2020-04-20 10:20:46.802000\n",
      "DONE WITH ANALYSIS\n"
     ]
    }
   ],
   "source": [
    "from datetime import datetime\n",
    "\n",
    "print str(datetime.now())\n",
    "\n",
    "dfbase[\"Complaint_Date(s)\"] = dfbase[\"Complaint_Date(s)\"].astype(str).str.replace('{', '')\n",
    "dfbase[\"Complaint_Date(s)\"] = dfbase[\"Complaint_Date(s)\"].str.replace('}', '')\n",
    "\n",
    "dfbase[\"Inspection_Date(s)\"] = dfbase[\"Inspection_Date(s)\"].astype(str).str.replace('{', '')\n",
    "dfbase[\"Inspection_Date(s)\"] = dfbase[\"Inspection_Date(s)\"].str.replace('}', '')\n",
    "\n",
    "dfbase[\"Complaint_Number(s)\"] = dfbase[\"Complaint_Number(s)\"].astype(str).str.replace('{', '')\n",
    "dfbase[\"Complaint_Number(s)\"] = dfbase[\"Complaint_Number(s)\"].str.replace('}', '')\n",
    "\n",
    "dfbase[\"Complaint_Disposition(s)\"] = dfbase[\"Complaint_Disposition(s)\"].astype(str).str.replace('{', '')\n",
    "dfbase[\"Complaint_Disposition(s)\"] = dfbase[\"Complaint_Disposition(s)\"].str.replace('}', '')\n",
    "dfbase[\"Complaint_Disposition(s)\"] = dfbase[\"Complaint_Disposition(s)\"].str.replace('nan nan', '')\n",
    "\n",
    "dfbase.to_csv(path + \"2N BIN Level.csv\", index=False)\n",
    "df2.to_csv(path + \"2N Complaint Level.csv\", index=False)\n",
    "dfback.to_csv(path + \"2N Backlog Map.csv\", index=False)\n",
    "\n",
    "print \"DONE WITH ANALYSIS\""
   ]
  },
  {
   "cell_type": "code",
   "execution_count": 19,
   "metadata": {
    "collapsed": false
   },
   "outputs": [
    {
     "data": {
      "text/plain": [
       "BIN_Number                      object\n",
       "Number_SWO                     float64\n",
       "Number_Open_Complaints           int64\n",
       "Number_Violations              float64\n",
       "Number_Complaints                int64\n",
       "Number_Inspected                 int64\n",
       "Work_Days_Since_Complaint      float64\n",
       "Address                         object\n",
       "Community_Board                  int64\n",
       "Complaint_Date(s)               object\n",
       "Inspection_Date(s)              object\n",
       "Complaint_Number(s)             object\n",
       "Work_Days_to_1st_Inspection    float64\n",
       "First_Complaint_Date            object\n",
       "First_Inspection_Date           object\n",
       "Complaint_Disposition(s)        object\n",
       "Building Inspected              object\n",
       "Latitude                       float64\n",
       "Longitude                      float64\n",
       "Disposition Type                object\n",
       "dtype: object"
      ]
     },
     "execution_count": 19,
     "metadata": {},
     "output_type": "execute_result"
    }
   ],
   "source": [
    "dfbase.dtypes"
   ]
  },
  {
   "cell_type": "code",
   "execution_count": null,
   "metadata": {
    "collapsed": true
   },
   "outputs": [],
   "source": []
  }
 ],
 "metadata": {
  "kernelspec": {
   "display_name": "Python 2",
   "language": "python",
   "name": "python2"
  },
  "language_info": {
   "codemirror_mode": {
    "name": "ipython",
    "version": 2
   },
   "file_extension": ".py",
   "mimetype": "text/x-python",
   "name": "python",
   "nbconvert_exporter": "python",
   "pygments_lexer": "ipython2",
   "version": "2.7.13"
  }
 },
 "nbformat": 4,
 "nbformat_minor": 2
}
